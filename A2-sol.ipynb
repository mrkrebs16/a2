{
 "cells": [
  {
   "attachments": {},
   "cell_type": "markdown",
   "id": "9d69ee8f",
   "metadata": {},
   "source": [
    "## Assignment 2\n",
    "\n",
    "*100 points (8% of course grade)*</br>\n",
    "*Assigned: Wed, Jun 4th*</br>\n",
    "**Due: Mon, Jun 16th, 23:59**\n",
    "\n",
    "This homework should be done in parts as soon as (< 1 week) relevant topics are covered in lectures. If you wait until the last minute, you might be overwhelmed.\n",
    "\n",
    "You must turn in the required files electronically, including this Notebook (A2.ipynb). Please follow the submission instructions for each problem carefully.\n",
    "\n",
    "In this assignment, you need to solve two problems. In Problem 1, you will write a few SQL queries to query the beers database (the same as in A1). In Problem 2, you will answer two questions in database design theory."
   ]
  },
  {
   "attachments": {},
   "cell_type": "markdown",
   "id": "8225f48e",
   "metadata": {},
   "source": [
    "## Setup your PostgreSQL"
   ]
  },
  {
   "attachments": {},
   "cell_type": "markdown",
   "id": "a7cf987e",
   "metadata": {},
   "source": [
    "You will need this setup to create a database on your machine and to test your queries. Please follow our [setup instructions](https://canvas.sfu.ca/courses/84701/pages/postgresql-setup-instruction-for-assignment-2) on Canvas."
   ]
  },
  {
   "attachments": {},
   "cell_type": "markdown",
   "id": "bcd509a5",
   "metadata": {},
   "source": [
    "### Problem 1: Query with SQL (64%)"
   ]
  },
  {
   "attachments": {},
   "cell_type": "markdown",
   "id": "34057103",
   "metadata": {},
   "source": [
    "Consider again the beer drinker's database from Assignment 1 with following schema (key columns underlined).\n",
    "\n",
    "- drinker (<u>name</u>, address)\n",
    "- bar (<u>name</u>, address)\n",
    "- beer (<u>name</u>, brewer)\n",
    "- frequents (<u>drinker</u>, <u>bar</u>, times_a_week)\n",
    "- likes (<u>drinker</u>, <u>beer</u>)\n",
    "- serves (<u>bar</u>, <u>beer</u>, price)\n"
   ]
  },
  {
   "attachments": {},
   "cell_type": "markdown",
   "id": "99e91a0a",
   "metadata": {},
   "source": [
    "#### **Preliminary**\n",
    "\n",
    "After you finish the PostgreSQL setup, you will be able to run the PostgreSQL's interpreter in your command line tools by running `psql beers` in your terminal or command line. You may also use pgAdmin instead of the command line tool.\n",
    "\n",
    "Same as assignment 1, you will need to type your SQL queries in the cells below."
   ]
  },
  {
   "attachments": {},
   "cell_type": "markdown",
   "id": "4c23ffdc",
   "metadata": {},
   "source": [
    "\n",
    "Now your homework question is to write Relational Algebra queries to answer following questions. \n",
    "\n",
    "Please fill your answer in each cell (and **ONLY the query**) and **DO NOT add or remove** any cells to make the TAs' life easier in evaluating your queries. Questions (1)-(4) are worth 6 points each; (5)-(9) are worth 8 points each.\n"
   ]
  },
  {
   "cell_type": "markdown",
   "id": "b9cf0eec",
   "metadata": {},
   "source": [
    "#### 0. (example) Find names of all bars that Eve frequents."
   ]
  },
  {
   "attachments": {},
   "cell_type": "markdown",
   "id": "87fea50d",
   "metadata": {},
   "source": [
    "/* input your answer in this cell: */\n",
    "\n",
    "SELECT bar FROM frequents WHERE drinker = 'Eve';"
   ]
  },
  {
   "attachments": {},
   "cell_type": "markdown",
   "id": "13b94ae5",
   "metadata": {},
   "source": [
    "#### 1. Find names of bars that serve either Amstel or Corona at price higher than \\\\$2."
   ]
  },
  {
   "cell_type": "code",
   "execution_count": null,
   "id": "2a2cbd61",
   "metadata": {
    "vscode": {
     "languageId": "sql"
    }
   },
   "outputs": [],
   "source": [
    "/* input your answer in this cell: */\n",
    "\n",
    "SELECT DISTINCT bar FROM Serves WHERE (beer = 'Amstel' OR beer = 'Corona') AND price > 2; "
   ]
  },
  {
   "attachments": {},
   "cell_type": "markdown",
   "id": "984d30ac",
   "metadata": {},
   "source": [
    "#### 2. Find the names of all drinkers that like Corona but frequent no bars that serve Corona."
   ]
  },
  {
   "cell_type": "code",
   "execution_count": null,
   "id": "99a55a43",
   "metadata": {
    "vscode": {
     "languageId": "sql"
    }
   },
   "outputs": [],
   "source": [
    "/* input your answer in this cell: */\n",
    "\n",
    "SELECT DISTINCT drinker FROM likes L\n",
    "WHERE L.beer = 'Corona' \n",
    "AND NOT EXISTS(\n",
    "    SELECT * FROM Serves S NATURAL JOIN Frequents F \n",
    "    WHERE S.beer = 'Corona' AND F.drinker = L.drinker\n",
    ");"
   ]
  },
  {
   "attachments": {},
   "cell_type": "markdown",
   "id": "a9e15444",
   "metadata": {},
   "source": [
    "#### 3. Find the names of all bars that serve at least 5 beers"
   ]
  },
  {
   "cell_type": "code",
   "execution_count": null,
   "id": "166dfe20",
   "metadata": {
    "vscode": {
     "languageId": "sql"
    }
   },
   "outputs": [],
   "source": [
    "\n",
    "SELECT bar FROM Serves\n",
    "GROUP BY bar\n",
    "HAVING COUNT(beer) >= 5;"
   ]
  },
  {
   "attachments": {},
   "cell_type": "markdown",
   "id": "cc2b311d",
   "metadata": {},
   "source": [
    "/* input your answer in this cell: */\n"
   ]
  },
  {
   "attachments": {},
   "cell_type": "markdown",
   "id": "8e7de3f4",
   "metadata": {},
   "source": [
    "#### 4. Find the pair of drinkers who frequent bars the same total number of times per week. Don't list (drinkerA, drinkerA). Only list pairs (drinkerA, drinkerB) where drinkerA < drinkerB  in the answer; don't list (drinkerB, drinkerA) again.\n"
   ]
  },
  {
   "cell_type": "code",
   "execution_count": null,
   "id": "9da978d3",
   "metadata": {
    "vscode": {
     "languageId": "sql"
    }
   },
   "outputs": [],
   "source": [
    "/* input your answer in this cell: */\n",
    "SELECT f1.drinker, f2.drinker\n",
    "FROM (SELECT drinker, sum(times_a_week) as st FROM frequents GROUP BY drinker) f1,\n",
    " (SELECT drinker, sum(times_a_week) as st FROM frequents GROUP BY drinker) f2\n",
    "WHERE f1.drinker < f2.drinker AND f1.st = f2.st"
   ]
  },
  {
   "attachments": {},
   "cell_type": "markdown",
   "id": "8d663394",
   "metadata": {},
   "source": [
    "#### 5. Find names of all drinkers who frequent *only* those bars that serve *some* beers they like."
   ]
  },
  {
   "cell_type": "code",
   "execution_count": null,
   "id": "246ed095",
   "metadata": {
    "vscode": {
     "languageId": "sql"
    }
   },
   "outputs": [],
   "source": [
    "/* input your answer in this cell: */\n",
    "\n",
    "SELECT name \n",
    "FROM drinker \n",
    "WHERE NOT EXISTS (\n",
    "    SELECT bar \n",
    "    FROM frequents \n",
    "    WHERE drinker = name \n",
    "    AND bar NOT IN (\n",
    "        SELECT bar \n",
    "        FROM serves, likes \n",
    "        WHERE drinker = name \n",
    "        AND serves.beer = likes.beer)\n",
    ");"
   ]
  },
  {
   "attachments": {},
   "cell_type": "markdown",
   "id": "fc284754",
   "metadata": {},
   "source": [
    "#### 6. Find the name of each beer such that in every bar where it is served, it is liked by some drinker who frequents this bar. (If a beer is served nowhere, it should be returned as well.)"
   ]
  },
  {
   "cell_type": "code",
   "execution_count": null,
   "id": "a3d9f3a2",
   "metadata": {
    "vscode": {
     "languageId": "sql"
    }
   },
   "outputs": [],
   "source": [
    "/* input your answer in this cell: */\n",
    "SELECT name\n",
    "FROM Beer\n",
    "WHERE NOT EXISTS (\n",
    "    SELECT * FROM Serves s\n",
    "    WHERE s.beer = Beer.name AND NOT EXISTS (\n",
    "        SELECT * FROM  Frequents f, Likes l\n",
    "        WHERE s.bar = f.bar AND f.drinker = l.drinker AND l.beer = Beer.name\n",
    "    )\n",
    ");"
   ]
  },
  {
   "attachments": {},
   "cell_type": "markdown",
   "id": "66f45690",
   "metadata": {},
   "source": [
    "#### 7. Calculate some statistics for each bar: (1) total number of drinkers who frequent it, (2) average price of beers it serves, and (3) name of the drinker who frequents it the maximum number of times a week (the most regular customer!). Your query should output bar, avg_price,\n",
    "In case of ties in (3), rank the drinkers by the alphabetical order or their names. Sort the output by the number of drinkers (in descending order), in case of ties,\n",
    "- sort by bar in alphabetical order. You need to list every bar, even if it\n",
    "is not frequented by anyone\n",
    "- (show 0 as the total number of drinkers in this case and NULL as the most\n",
    "regular customer) or\n",
    "- serves no beers (show NULL as average price in this case)."
   ]
  },
  {
   "cell_type": "code",
   "execution_count": null,
   "id": "bff6c014",
   "metadata": {
    "vscode": {
     "languageId": "sql"
    }
   },
   "outputs": [],
   "source": [
    "/* input your answer in this cell: */\n",
    "SELECT b.name,\n",
    "(SELECT GREATEST(COUNT(DISTINCT drinker), 0)\n",
    "FROM frequents\n",
    "WHERE bar=b.name) AS num_drinker,\n",
    "(SELECT AVG(price)\n",
    "FROM serves s\n",
    "WHERE bar = b.name) AS avg_price,\n",
    "(SELECT drinker\n",
    "FROM frequents\n",
    "WHERE bar=b.name\n",
    "ORDER BY times_a_week DESC, drinker ASC\n",
    "LIMIT 1) AS most_reg_drinker\n",
    "FROM bar b\n",
    "ORDER BY num_drinker DESC, b.name ASC;"
   ]
  },
  {
   "attachments": {},
   "cell_type": "markdown",
   "id": "50e53c2d",
   "metadata": {},
   "source": [
    "#### 8. Find all (bar1, bar2) pairs where: (1) at least one same beer is served, and (2) the average number of visits per drinker (exclude those who do not frequent) per week of bar1 is more than 50% higher than the average number of visits per drinker of bar2.\n"
   ]
  },
  {
   "cell_type": "code",
   "execution_count": null,
   "id": "13cbea36",
   "metadata": {
    "vscode": {
     "languageId": "sql"
    }
   },
   "outputs": [],
   "source": [
    "/* input your answer in this cell: */\n",
    "\n",
    "SELECT DISTINCT s1.bar, s2.bar\n",
    "FROM serves s1, serves s2\n",
    "WHERE s1.bar <> s2.bar\n",
    "AND s1.beer = s2.beer\n",
    "AND ((SELECT avg(times_a_week) FROM frequents f1 WHERE s1.bar = f1.bar) > 1.5*(SELECT avg(times_a_week) FROM frequents f2 WHERE s2.bar = f2.bar));\n"
   ]
  },
  {
   "attachments": {},
   "cell_type": "markdown",
   "id": "05987f7a",
   "metadata": {},
   "source": [
    "#### 9. Find, for each beer, its lowest serving price and the bar(s) serving it at this price. The output should be a list of (beer, price, bar) triples. If some beer B is not served anywhere, you should still output (B, NULL, NULL).\n"
   ]
  },
  {
   "cell_type": "code",
   "execution_count": null,
   "id": "b4fd6651",
   "metadata": {
    "vscode": {
     "languageId": "sql"
    }
   },
   "outputs": [],
   "source": [
    "/* input your answer in this cell: */\n",
    "\n",
    "SELECT beer.name, min_price, bar \n",
    "FROM beer LEFT OUTER JOIN \n",
    "    (SELECT beer, MIN(price) AS min_price FROM serves GROUP BY beer) t \n",
    "ON beer.name = t.beer \n",
    "LEFT OUTER JOIN serves \n",
    "ON beer.name = serves.beer AND min_price = serves.price"
   ]
  },
  {
   "attachments": {},
   "cell_type": "markdown",
   "id": "755a0031",
   "metadata": {},
   "source": [
    "## Problem 2: Database design (36% = 12% + 24%)"
   ]
  },
  {
   "attachments": {},
   "cell_type": "markdown",
   "id": "e49f33ff",
   "metadata": {},
   "source": [
    "#### 1. Consider a relation R with five attributes ABCDE. You are given the following dependencies: A -> D; DE -> C; CB -> A. \n",
    "1. For each FD $X \\rightarrow Y$, compute the closure $X^+$\n",
    "2. List all keys in R.\n",
    "3. Is R in 3NF? Explain.\n",
    "4. Is R in BCNF? Explain."
   ]
  },
  {
   "attachments": {},
   "cell_type": "markdown",
   "id": "bebe7453",
   "metadata": {},
   "source": [
    "`Write your answers for 1,2,3,4 in this cell`\n",
    "\n",
    "1. $A^+ = \\{AD\\}$, ${DE}^+ = \\{CDE\\}$, $\\{CB\\}^+ = \\{ABCD\\}$\n",
    "\n",
    "2. {CBE} {ABE} {DEB}\n",
    "\n",
    "3. Yes. All attributes not appearing on the RHS of any FD (B and E) are included in all keys.\n",
    "\n",
    "4. Consider A -> D. Since A+ = AD, A is not a superkey and thus A -> D is a BCNF violation."
   ]
  },
  {
   "attachments": {},
   "cell_type": "markdown",
   "id": "7c7179b1",
   "metadata": {},
   "source": [
    "#### 2. Consider the following table storing information about Pals, jobs, and production structures in a simplified version of Palworld: R(pid, sid, species, structure_name, work_speed, job_type, food_consumption) and a set of functional dependencies:\n",
    "* FD1: species, structure_name -> work_speed\n",
    "* FD2: sid -> structure_name, job_type\n",
    "* FD3: pid -> species, food_consumption\n",
    "* FD4: structure_name -> job_type\n",
    "\n",
    "Decompose the schema into BCNF by (1) filling out the steps below, and (2) writing the names of the\n",
    "relations in the final solution. Note: You may not need all four steps in your decompositions."
   ]
  },
  {
   "attachments": {},
   "cell_type": "markdown",
   "id": "18d1f306",
   "metadata": {},
   "source": [
    "#### *Note that this is not the only solution, you may apply FDs in different orders.*"
   ]
  },
  {
   "attachments": {},
   "cell_type": "markdown",
   "id": "6c196895",
   "metadata": {},
   "source": [
    "**Step 1**\n",
    "- Initial table: `R(pid, sid, species, structure_name, work_speed, job_type, food_consumption)`\n",
    "- Violating FD $X \\rightarrow Y$: FD2\n",
    "- Closure $X^+$ for violating FD $X \\rightarrow Y$: {sid, structure_name, job_type}\n",
    "- Schema of new table-1: `R1(sid, structure_name, job_type)`\n",
    "- Schema of new table-2: `R2(pid, sid, species, work_speed, food_consumption)`"
   ]
  },
  {
   "attachments": {},
   "cell_type": "markdown",
   "id": "21e24d39",
   "metadata": {},
   "source": [
    "**Step 2**\n",
    "- Initial table: R1\n",
    "- Violating FD $X \\rightarrow Y$: FD4\n",
    "- Closure $X^+$ for violating FD $X \\rightarrow Y$: {structure_name, job_type}\n",
    "- Schema of new table-1: `R3(sid, structure_name)`\n",
    "- Schema of new table-2: `R4(structure_name, job_type)`"
   ]
  },
  {
   "attachments": {},
   "cell_type": "markdown",
   "id": "6ad6a9b0",
   "metadata": {},
   "source": [
    "**Step 3**\n",
    "- Initial table: R2\n",
    "- Violating FD $X \\rightarrow Y$: FD3\n",
    "- Closure $X^+$ for violating FD $X \\rightarrow Y$: {pid, species, food_consumption}\n",
    "- Schema of new table-1: `R5(pid, species, food_consumption)`\n",
    "- Schema of new table-2: `R6(pid, sid, work_speed)`"
   ]
  },
  {
   "attachments": {},
   "cell_type": "markdown",
   "id": "bbd776b2",
   "metadata": {},
   "source": [
    "**Step 4**\n",
    "- Initial table: \n",
    "- Violating FD $X \\rightarrow Y$:\n",
    "- Closure $X^+$ for violating FD $X \\rightarrow Y$:\n",
    "- Schema of new table-1:\n",
    "- Schema of new table-2:"
   ]
  },
  {
   "attachments": {},
   "cell_type": "markdown",
   "id": "e46cdbae",
   "metadata": {},
   "source": [
    "### Submission instruction\n",
    "\n",
    "1. For problem 1, answer the questions (1)-(9) in the Markdown cells.\n",
    "\n",
    "2. For problem 2, fill the steps you need after the `:`.\n",
    "\n",
    "3. Compress your A2.ipynb (this file) into A2.zip and submit on Canvas."
   ]
  }
 ],
 "metadata": {
  "kernelspec": {
   "display_name": "ratest",
   "language": "python",
   "name": "python3"
  },
  "language_info": {
   "codemirror_mode": {
    "name": "ipython",
    "version": 3
   },
   "file_extension": ".py",
   "mimetype": "text/x-python",
   "name": "python",
   "nbconvert_exporter": "python",
   "pygments_lexer": "ipython3",
   "version": "3.7.1"
  },
  "vscode": {
   "interpreter": {
    "hash": "502d05b2c65fc31bf8a0f20fb9a06483287797d4acd857737c87d0fee02f7a46"
   }
  }
 },
 "nbformat": 4,
 "nbformat_minor": 5
}
